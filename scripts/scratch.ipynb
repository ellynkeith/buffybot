{
 "cells": [
  {
   "cell_type": "code",
   "execution_count": 26,
   "id": "b86475cb-d603-4afc-9262-2d115fdd6932",
   "metadata": {},
   "outputs": [],
   "source": [
    "import math"
   ]
  },
  {
   "cell_type": "code",
   "execution_count": 27,
   "id": "4facea7b-d898-4406-aab7-0740f9843274",
   "metadata": {},
   "outputs": [],
   "source": [
    "def distance(point1, point2):\n",
    "    return math.sqrt(sum((a-b)**2 for a,b in zip(point1, point2)))"
   ]
  },
  {
   "cell_type": "code",
   "execution_count": 28,
   "id": "d0ab56f4-bda4-4ace-af06-fee6312900eb",
   "metadata": {},
   "outputs": [],
   "source": [
    "def assign_points_to_centroids(points, centroids):\n",
    "    clusters = [[] for _ in range(len(centroids))]\n",
    "    for point in points:\n",
    "        distances = [distance(point, centroid) for centroid in centroids]\n",
    "        closest_centroid_idx = distances.index(min(distances))\n",
    "        clusters[closest_centroid_idx].append(point)\n",
    "    return clusters"
   ]
  },
  {
   "cell_type": "code",
   "execution_count": 29,
   "id": "10a620a3-99ff-42d9-b6d8-920f7e3ebc54",
   "metadata": {},
   "outputs": [],
   "source": [
    "def update_centroids(clusters):\n",
    "    new_centroids = []\n",
    "    for cluster in clusters:\n",
    "        if len(cluster) == 0:\n",
    "            new_centroids.append([0, 0])\n",
    "        else:\n",
    "            avg_x = sum(point[0] for point in cluster)/len(cluster)\n",
    "            avg_y = sum(point[1] for point in cluster)/len(cluster)\n",
    "            new_centroids.append([avg_x, avg_y])\n",
    "    return new_centroids"
   ]
  },
  {
   "cell_type": "code",
   "execution_count": 30,
   "id": "be5e66cf-2357-446c-8de5-0cfa4569557a",
   "metadata": {},
   "outputs": [],
   "source": [
    "def converged(old_centroids, new_centroids, tolerance=0.01):\n",
    "    for old, new in zip(old_centroids, new_centroids):\n",
    "        if distance(old, new) > tolerance:\n",
    "            return False\n",
    "        return True"
   ]
  },
  {
   "cell_type": "code",
   "execution_count": 31,
   "id": "42548a99-1405-48c7-9bae-618b4caa7db5",
   "metadata": {},
   "outputs": [],
   "source": [
    "points = [[1,1], [2,2], [8,8], [9,9]]\n",
    "centroids =  [[0,0], [10,10]]"
   ]
  },
  {
   "cell_type": "code",
   "execution_count": 32,
   "id": "c4503cbd-f4ed-495d-83da-fbcba59320e4",
   "metadata": {},
   "outputs": [],
   "source": [
    "for iteration in range(100):\n",
    "    clusters = assign_points_to_centroids(points, centroids)\n",
    "    new_centroids = update_centroids(clusters)\n",
    "    if converged(centroids, new_centroids):\n",
    "        break\n",
    "    centroids = new_centroids"
   ]
  },
  {
   "cell_type": "code",
   "execution_count": 33,
   "id": "6124882a-76a8-4750-ae47-38a495a96e71",
   "metadata": {},
   "outputs": [
    {
     "data": {
      "text/plain": [
       "[[1.5, 1.5], [8.5, 8.5]]"
      ]
     },
     "execution_count": 33,
     "metadata": {},
     "output_type": "execute_result"
    }
   ],
   "source": [
    "centroids"
   ]
  },
  {
   "cell_type": "code",
   "execution_count": 34,
   "id": "c977a00d-bf9f-42a0-9bbf-10cc78b39091",
   "metadata": {},
   "outputs": [
    {
     "data": {
      "text/plain": [
       "[[[1, 1], [2, 2]], [[8, 8], [9, 9]]]"
      ]
     },
     "execution_count": 34,
     "metadata": {},
     "output_type": "execute_result"
    }
   ],
   "source": [
    "clusters"
   ]
  },
  {
   "cell_type": "code",
   "execution_count": 41,
   "id": "809d7858-87da-46b6-bb6f-9d8eb1e41209",
   "metadata": {},
   "outputs": [],
   "source": [
    "def has_path(graph, start, end):\n",
    "    if start == end:\n",
    "        return True\n",
    "\n",
    "    visited = set()\n",
    "    to_visit = [start]\n",
    "\n",
    "    while to_visit:\n",
    "        print('to_visit:', to_visit)\n",
    "        current = to_visit.pop(0)\n",
    "\n",
    "        if current == end:\n",
    "            return True\n",
    "        if current in visited:\n",
    "            continue\n",
    "        visited.add(current)\n",
    "        for n in graph.get(current, []):\n",
    "            if n not in visited:\n",
    "                to_visit.append(n)\n",
    "            \n",
    "    return False\n",
    "    "
   ]
  },
  {
   "cell_type": "code",
   "execution_count": 47,
   "id": "d4301d67-4802-4964-86ee-f4f02476746e",
   "metadata": {},
   "outputs": [
    {
     "name": "stdout",
     "output_type": "stream",
     "text": [
      "Graph 3: {'A': ['B'], 'B': ['C'], 'C': ['D'], 'D': []}\n",
      "to_visit: ['A']\n",
      "to_visit: ['B']\n",
      "to_visit: ['C']\n",
      "to_visit: ['D']\n",
      "Path A to D? True\n",
      "to_visit: ['D']\n",
      "Path D to A? False\n"
     ]
    }
   ],
   "source": [
    "    # graph1 = {\n",
    "    #     'A': ['B', 'C'],\n",
    "    #     'B': ['A', 'D'],\n",
    "    #     'C': ['A', 'D'], \n",
    "    #     'D': ['B', 'C']\n",
    "    # }\n",
    "    \n",
    "    # print(\"Graph 1:\", graph1)\n",
    "    # print(\"Path A to D?\", has_path(graph1, 'A', 'D'))  # Should be True\n",
    "    # print(\"Path A to Z?\", has_path(graph1, 'A', 'Z'))  # Should be False\n",
    "    # print()\n",
    "    \n",
    "    # # Example 2: Disconnected graph\n",
    "    # graph2 = {\n",
    "    #     'A': ['B'],\n",
    "    #     'B': ['A'],\n",
    "    #     'C': ['D'],\n",
    "    #     'D': ['C']\n",
    "    # }\n",
    "    \n",
    "    # print(\"Graph 2:\", graph2)\n",
    "    # print(\"Path A to B?\", has_path(graph2, 'A', 'B'))  # Should be True\n",
    "    # print(\"Path A to C?\", has_path(graph2, 'A', 'C'))  # Should be False\n",
    "    # print()\n",
    "    \n",
    "    # Example 3: Linear chain\n",
    "    graph3 = {\n",
    "        'A': ['B'],\n",
    "        'B': ['C'],\n",
    "        'C': ['D'],\n",
    "        'D': []\n",
    "    }\n",
    "    \n",
    "    print(\"Graph 3:\", graph3)\n",
    "    print(\"Path A to D?\", has_path(graph3, 'A', 'D'))  # Should be True\n",
    "    print(\"Path D to A?\", has_path(graph3, 'D', 'A'))  # Should be False (one-way)"
   ]
  },
  {
   "cell_type": "code",
   "execution_count": 48,
   "id": "8ee2243f-51b6-4287-98fe-41e8cfbb19d4",
   "metadata": {},
   "outputs": [],
   "source": [
    "def is_path(start, end, graph):\n",
    "    if start == end:\n",
    "        return True\n",
    "\n",
    "    visited = set()\n",
    "    to_visit = [start]\n",
    "\n",
    "    while to_visit:\n",
    "        current = to_visit.pop(0)\n",
    "        if current == end:\n",
    "            return True\n",
    "\n",
    "        if current in visited:\n",
    "            continue\n",
    "        visited.add(current)\n",
    "        for neighbor in graph.get(current, []):\n",
    "            if neighbor not in visited:\n",
    "                to_visit.append(neighbor)\n",
    "    return False\n",
    "            "
   ]
  },
  {
   "cell_type": "code",
   "execution_count": 53,
   "id": "f198d0e0-9b23-4639-b971-f36a2b73f18f",
   "metadata": {},
   "outputs": [
    {
     "name": "stdout",
     "output_type": "stream",
     "text": [
      "True\n"
     ]
    }
   ],
   "source": [
    "social_network = {\n",
    "    'Alice': ['Bob', 'Carol'],\n",
    "    'Bob': ['Alice', 'David', 'Eve'],\n",
    "    'Carol': ['Alice', 'Frank'],\n",
    "    'David': ['Bob'],\n",
    "    'Eve': ['Bob', 'Frank'],\n",
    "    'Frank': ['Carol', 'Eve'],\n",
    "    'Zoe': ['Maya'],\n",
    "    'Maya': ['Zoe']\n",
    "}\n",
    "\n",
    "print(is_path('Carol', 'Eve', social_network))"
   ]
  },
  {
   "cell_type": "code",
   "execution_count": null,
   "id": "9a36c600-4cd0-4228-8a32-d51f543afc7b",
   "metadata": {},
   "outputs": [],
   "source": [
    "import random\n",
    "import math\n",
    "\n",
    "## initialize centroids\n",
    "def initialize_centroids(points, n):\n",
    "    return random.sample(points, n)\n",
    "    \n",
    "## distance measure\n",
    "def distance(point1, point2):\n",
    "    return math.sqrt(sum((a-b)**2 for a, b in zip(point1, point2)\n",
    "\n",
    "# assign points to centroids\n",
    "def assign_points_to_centroid(points, centroid):\n",
    "    clusters = [[] for _ in range(len(centroids))]\n",
    "    for point in points:\n",
    "        distances = [distance(point, centroid) for centroid in centroids]\n",
    "        closest_index = distances.index(min(distances))\n",
    "        clusters[closest_index].append(point)\n",
    "    return clusters\n",
    "\n",
    "# update centroids by taking avg of points of centroid\n",
    "def update_centroids(clusters):\n",
    "    new_centroids = []\n",
    "    for cluster in clusters:\n",
    "        if len(cluster) == 0:\n",
    "            new_centroids.append([0, 0])\n",
    "        else:\n",
    "            avg_x = sum(point[0] for point in cluster)/len(cluster)\n",
    "            avg_y = sum(point[1] for point in cluster)/len(cluster)\n",
    "            new_centroids.append([avg_x, avg_y])\n",
    "    return new_centroids\n",
    "\n",
    "# optional--quit iterations at convergence\n",
    "def converge(new_centroid, old_centroid, cutoff=0.01):\n",
    "    \n",
    "\n",
    "points = [[1, 2], [2, 1], [2, 3], [8, 7], [8, 8], [9, 7]]\n",
    "k = 2\n",
    "max_iter = 10\n",
    "\n",
    "centroids = initialize_centroids(k)\n",
    "for i in range(max_iter):\n",
    "    clusters = assign_points_to_centroid(points, centroids)\n",
    "    new_centroids = update_centroids(clusters)\n",
    "    if centroids == new_centroids:\n",
    "        break\n",
    "    centroids = new_centroids\n",
    "    \n",
    "    "
   ]
  }
 ],
 "metadata": {
  "kernelspec": {
   "display_name": "Python 3 (ipykernel)",
   "language": "python",
   "name": "python3"
  },
  "language_info": {
   "codemirror_mode": {
    "name": "ipython",
    "version": 3
   },
   "file_extension": ".py",
   "mimetype": "text/x-python",
   "name": "python",
   "nbconvert_exporter": "python",
   "pygments_lexer": "ipython3",
   "version": "3.13.3"
  }
 },
 "nbformat": 4,
 "nbformat_minor": 5
}
